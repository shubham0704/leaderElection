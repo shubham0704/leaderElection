{
 "cells": [
  {
   "cell_type": "markdown",
   "metadata": {},
   "source": [
    "## Algorithm to be executed after I get the values:"
   ]
  },
  {
   "cell_type": "markdown",
   "metadata": {},
   "source": [
    "\n",
    "\n"
   ]
  },
  {
   "cell_type": "code",
   "execution_count": 29,
   "metadata": {
    "collapsed": false
   },
   "outputs": [
    {
     "name": "stdout",
     "output_type": "stream",
     "text": [
      "[ 0.          1.25071572  0.37776157  2.83410571  0.16423354  1.39183405\n",
      "  1.15030741  0.3384782   1.63498154  0.53613748  1.34904032  1.00282588\n",
      "  0.68799642  0.87141174  1.17651522  0.45282938  0.57018889  0.4490498\n",
      "  0.93403718  0.89072027  0.70666304  1.00609727  0.31861903  0.58602082\n",
      "  0.45724112  1.31412177  0.89194314  0.22668372  0.19891958  0.19225883\n",
      "  0.69728449  1.35401413  0.89775851  1.20279012  2.19071402  1.33440801\n",
      "  0.33363332  0.79137521  0.40837551  0.49302807  1.09415652  0.60954437\n",
      "  0.922269    0.44313757  0.32975408  0.68627679  1.32755288  0.80823909\n",
      "  1.03712412  0.13566247  0.90663904  0.43764938  0.27734668  0.92825355\n",
      "  1.59759968  0.15068809  1.42127889  0.42442383  1.32537417  0.75337841\n",
      "  0.71049029  0.65440587]\n"
     ]
    }
   ],
   "source": [
    "import kmeanspp\n",
    "from numpy import *\n",
    "import matplotlib.pyplot as plt\n",
    "dataMat = kmeanspp.loadDataSet('testSet.txt')\n",
    "\n",
    "def distEclud(vecA, vecB):\n",
    "    return sqrt(sum(power(vecA-vecB,2)))\n",
    "\n",
    "          \n",
    "def createCent(dataSet, K,sampling_factor=2):\n",
    "    '''\n",
    "        Parameters:\n",
    "        -----------\n",
    "        \n",
    "        dataSet: numpy.matrix\n",
    "        K: integer, number of clusters\n",
    "        sampling_factor: integer\n",
    "    \n",
    "    '''\n",
    "      #let dataSet be an array of arrays  \n",
    "    elected_centers = []\n",
    "    candidate_centers = []\n",
    "    if type(dataSet) == mat:\n",
    "\t\tdataSet = dataSet.A\n",
    "    else:\n",
    "\t\tdataSet = array(dataSet)\n",
    "    #initialize 2-d mat with first center selected arbitrarily\n",
    "    candidate_centers.append(dataSet[0, :].tolist())\n",
    "    \n",
    "    #find the nearest distance to the closest centers in candidate_centers\n",
    "    Dx = array([min([distEclud(c, array(x)) for c in candidate_centers]) for x in dataSet])\n",
    "    psi = sum(Dx)\n",
    "    l = int(ceil(log(psi)))\n",
    "    \n",
    "    #This is to avoid recalculation of Dx and psi one time\n",
    "    count = True\n",
    "\n",
    "    for k in range(l):\n",
    "        \n",
    "        if count:\t\t\t\n",
    "\t\t\tDx = array([min([distEclud(c, array(x)) for c in candidate_centers]) for x in dataSet])\n",
    "\t\t\tpsi = sum(Dx)\n",
    "        else:\n",
    "\t\t\tcount = False\n",
    "        r_points = random.random_sample((sampling_factor, ))\n",
    "        probs = (sampling_factor * Dx)/psi\n",
    "        cumsumprobs = cumsum(probs)\n",
    "      \n",
    "        # parallel job start\n",
    "        for r in r_points: \n",
    "            for j,p in enumerate(cumsumprobs):\n",
    "                if r < p:\n",
    "                    i = j\n",
    "                    break       \n",
    "            candidate_centers.append(dataSet[i, :].tolist())\n",
    "            dataSet = delete(dataSet, i, axis = 0)        \n",
    "        #parallel job stop\n",
    "        \n",
    "    w = [0 for _ in range(len(candidate_centers))]\n",
    "    for i in range(len(dataSet)):\n",
    "        minDist = inf\n",
    "        for j,c in enumerate(candidate_centers):\n",
    "                dist = distEclud(c, array(dataSet[i]))\n",
    "                if dist < minDist:\n",
    "                    minDist = dist\n",
    "                    index = j\n",
    "        w[index]+=1\n",
    "        \n",
    "\n",
    "    w = array(w)    \n",
    "    probs = w/float(sum(w))\n",
    "    cumsprobs = cumsum(probs)\n",
    "        \n",
    "    # select k-centers according to our algorithm\n",
    "    # here I assign random values to remaining batteries and type of sensors    \n",
    "    \n",
    "    sensor_type = random.randint(2,size=len(w))\n",
    "    \n",
    "    remaining_power = random.uniform(size=len(w))\n",
    "    \n",
    "    for k in range(K):\n",
    "        r = random.rand()\n",
    "        for j,p in enumerate(cumsprobs):\n",
    "            \n",
    "            new_p = (abs(p - sensor_type[j] + remaining_power[j]))%(.99)\n",
    "            if r < new_p and candidate_centers[j] not in elected_centers:\n",
    "                index = j\n",
    "                elected_centers.append(candidate_centers[index])\n",
    "                break\n",
    "\n",
    "    print Dx           \n",
    "    return elected_centers\n",
    "    \n",
    "centers = createCent(dataMat,K=3,sampling_factor=3)\n"
   ]
  },
  {
   "cell_type": "code",
   "execution_count": 30,
   "metadata": {
    "collapsed": false
   },
   "outputs": [],
   "source": [
    "# now calculate distance from each node and assign that node to that center\n",
    "def leader_assignment(dataMat,K=3,sampling_factor=3):\n",
    "    centers = createCent(dataMat,K,sampling_factor)\n",
    "    center_assigned = []\n",
    "    for i,x in enumerate((dataMat)):\n",
    "        minDis = inf\n",
    "        for j,c in enumerate((centers)):\n",
    "            dis = distEclud(c, array(x))\n",
    "            if dis<minDis:\n",
    "                minDis = dis\n",
    "                index = j\n",
    "        center_assigned.append(index)\n",
    "    return centers,center_assigned"
   ]
  },
  {
   "cell_type": "code",
   "execution_count": 31,
   "metadata": {
    "collapsed": false
   },
   "outputs": [
    {
     "name": "stdout",
     "output_type": "stream",
     "text": [
      "[ 0.          0.57018889  2.06077282  1.52434605  0.37776157  0.68002405\n",
      "  1.97115994  0.53613748  1.32268987  0.3384782   0.42149238  0.42931969\n",
      "  0.74063061  1.07895128  0.56840459  1.2992701   0.45282938  0.4490498\n",
      "  0.93403718  0.89072027  0.70666304  0.64414662  0.5923675   0.58602082\n",
      "  0.45724112  1.31412177  1.29286477  0.22668372  0.48144322  0.49846512\n",
      "  1.39865268  1.30476098  0.89775851  1.480686    2.29648514  1.33440801\n",
      "  0.33363332  0.63803168  0.40837551  0.49302807  1.09415652  0.60954437\n",
      "  0.91724544  0.44313757  0.80525299  0.96524332  1.70099285  0.80823909\n",
      "  0.65966333  0.13566247  1.3099709   0.43764938  0.27734668  1.20440079\n",
      "  1.43601081  0.15068809  1.76548924  0.81382137  1.46451503  0.75337841\n",
      "  0.94854277  1.508056  ]\n",
      "[0, 2, 1, 2, 0, 2, 1, 2, 0, 2, 1, 1, 0, 2, 1, 1, 0, 2, 1, 2, 0, 2, 1, 1, 0, 2, 1, 1, 0, 2, 1, 2, 0, 2, 1, 1, 0, 2, 1, 1, 0, 2, 1, 1, 0, 2, 1, 2, 0, 2, 1, 1, 0, 2, 1, 2, 0, 2, 1, 1, 0, 2, 1, 1, 0, 2, 1, 1, 0, 2, 1, 2, 1, 2, 1, 1, 0, 2, 1, 2]\n"
     ]
    }
   ],
   "source": [
    "centers,cluster_assigned = leader_assignment(dataMat)\n",
    "print cluster_assigned"
   ]
  },
  {
   "cell_type": "code",
   "execution_count": 32,
   "metadata": {
    "collapsed": false
   },
   "outputs": [
    {
     "name": "stdout",
     "output_type": "stream",
     "text": [
      "[[1.658985, 4.285136], [2.190101, -1.90602], [-2.123337, 2.943366]]\n",
      "cluster: [0 2 1 2 0 2 1 2 0 2 1 1 0 2 1 1 0 2 1 2 0 2 1 1 0 2 1 1 0 2 1 2 0 2 1 1 0\n",
      " 2 1 1 0 2 1 1 0 2 1 2 0 2 1 1 0 2 1 2 0 2 1 1 0 2 1 1 0 2 1 1 0 2 1 2 1 2\n",
      " 1 1 0 2 1 2]\n"
     ]
    },
    {
     "data": {
      "image/png": "[encoded data removed]",
      "text/plain": [
       "<matplotlib.figure.Figure at 0x7f76bcc5b4d0>"
      ]
     },
     "metadata": {},
     "output_type": "display_data"
    }
   ],
   "source": [
    "x = mat(dataMat)[:,0]\n",
    "y = mat(dataMat)[:,1]\n",
    "Cluster = np.array(cluster_assigned)\n",
    "print centers\n",
    "print 'cluster:',Cluster\n",
    "fig = plt.figure()\n",
    "ax = fig.add_subplot(111)\n",
    "scatter = ax.scatter(x,y,c=Cluster,s=50)\n",
    "#s parameter shows how big will be the plus symbol\n",
    "\n",
    "centers = np.mat(centers) \n",
    "for ele in centers:\n",
    "    i = ele[0,0]\n",
    "    j = ele[0,1]\n",
    "    ax.scatter(i,j,s=50,c='red',marker='+')\n",
    "ax.set_xlabel('x')\n",
    "ax.set_ylabel('y')\n",
    "\n",
    "plt.show()\n"
   ]
  },
  {
   "cell_type": "code",
   "execution_count": 40,
   "metadata": {
    "collapsed": false
   },
   "outputs": [
    {
     "name": "stdout",
     "output_type": "stream",
     "text": [
      "{'dataMat': [[1.658985, 4.285136], [-3.453687, 3.424321], [4.838138, -1.151539], [-5.379713, -3.362104], [0.972564, 2.924086], [-3.567919, 1.531611], [0.450614, -3.302219], [-3.487105, -1.724432], [2.668759, 1.594842], [-3.156485, 3.191137], [3.165506, -3.999838], [-2.786837, -3.099354], [4.208187, 2.984927], [-2.123337, 2.943366], [0.704199, -0.479481], [-0.39237, -3.963704], [2.831667, 1.574018], [-0.790153, 3.343144], [2.943496, -3.357075], [-3.195883, -2.283926], [2.336445, 2.875106], [-1.786345, 2.554248], [2.190101, -1.90602], [-3.403367, -2.778288], [1.778124, 3.880832], [-1.688346, 2.230267], [2.592976, -2.054368], [-4.007257, -3.207066], [2.257734, 3.387564], [-2.679011, 0.785119], [0.939512, -4.023563], [-3.674424, -2.261084], [2.046259, 2.735279], [-3.18947, 1.780269], [4.372646, -0.822248], [-2.579316, -3.497576], [1.889034, 5.1904], [-0.798747, 2.185588], [2.83652, -2.658556], [-3.837877, -3.253815], [2.096701, 3.886007], [-2.709034, 2.923887], [3.367037, -3.184789], [-2.121479, -4.232586], [2.329546, 3.179764], [-3.284816, 3.273099], [3.091414, -3.815232], [-3.762093, -2.432191], [3.542056, 2.778832], [-1.736822, 4.241041], [2.127073, -2.98368], [-4.323818, -3.938116], [3.792121, 5.135768], [-4.786473, 3.358547], [2.624081, -3.260715], [-4.009299, -2.978115], [2.493525, 1.96371], [-2.513661, 2.642162], [1.864375, -3.176309], [-3.171184, -3.572452], [2.89422, 2.489128], [-2.562539, 2.884438], [3.491078, -3.947487], [-2.565729, -2.012114], [3.332948, 3.983102], [-1.616805, 3.573188], [2.280615, -2.559444], [-2.651229, -3.103198], [2.321395, 3.154987], [-1.685703, 2.939697], [3.031012, -3.620252], [-4.599622, -2.185829], [4.196223, 1.126677], [-2.133863, 3.093686], [4.668892, -2.562705], [-2.793241, -2.149706], [2.884105, 3.043438], [-2.967647, 2.848696], [4.479332, -1.764772], [-4.905566, -2.91107]], 'centers': [[1.658985, 4.285136], [2.190101, -1.90602], [-2.123337, 2.943366]], 'cluster_assigned': [0, 2, 1, 2, 0, 2, 1, 2, 0, 2, 1, 1, 0, 2, 1, 1, 0, 2, 1, 2, 0, 2, 1, 1, 0, 2, 1, 1, 0, 2, 1, 2, 0, 2, 1, 1, 0, 2, 1, 1, 0, 2, 1, 1, 0, 2, 1, 2, 0, 2, 1, 1, 0, 2, 1, 2, 0, 2, 1, 1, 0, 2, 1, 1, 0, 2, 1, 1, 0, 2, 1, 2, 1, 2, 1, 1, 0, 2, 1, 2]}\n"
     ]
    }
   ],
   "source": [
    "data = {}\n",
    "data[\"centers\"] = centers.A.tolist()\n",
    "data[\"cluster_assigned\"] = cluster_assigned\n",
    "data[\"dataMat\"] = dataMat\n",
    "import json\n",
    "with open('/home/master/Desktop/main_json.txt','w+') as outfile:\n",
    "    json.dump(data,outfile)\n",
    "\n",
    "print data"
   ]
  },
  {
   "cell_type": "code",
   "execution_count": null,
   "metadata": {
    "collapsed": true
   },
   "outputs": [],
   "source": []
  }
 ],
 "metadata": {
  "kernelspec": {
   "display_name": "Python 2",
   "language": "python",
   "name": "python2"
  },
  "language_info": {
   "codemirror_mode": {
    "name": "ipython",
    "version": 2
   },
   "file_extension": ".py",
   "mimetype": "text/x-python",
   "name": "python",
   "nbconvert_exporter": "python",
   "pygments_lexer": "ipython2",
   "version": "2.7.12"
  }
 },
 "nbformat": 4,
 "nbformat_minor": 2
}
